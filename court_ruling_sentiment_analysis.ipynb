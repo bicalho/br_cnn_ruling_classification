{
 "cells": [
  {
   "cell_type": "markdown",
   "metadata": {},
   "source": [
    "# Multichannel CNN For Judicial Ruling Classification"
   ]
  },
  {
   "cell_type": "markdown",
   "metadata": {},
   "source": [
    "Sentiment analysis seeks to identify the viewpoint(s) underlying a text document; In this paper, We present the use of a multichannel convolutional neural network which, in effect, creates a model that reads text with different n-gram sizes, to predict with high accuracy sentiments behind the ruling of the Brazilian Supreme Court. We show that a simple multichannel CNN with little to zero hyperparameter tuning and static vectors achieves excellent results on the Brazilian Supreme Court data. We report results of 98\\% accuracy in predicting a multiclass sentiment label."
   ]
  },
  {
   "cell_type": "markdown",
   "metadata": {},
   "source": [
    "## 1. Objective\n",
    "The main objetive of this project is to train a Multichannel convolutional neural network to predict the end text sentiment of the brazilian suprem court rulings. The Multichannel CNN has the follwoing architecture:\n",
    "![Multichannel CNN ](imgs/multichannel.png \"Multichannel CNN\")"
   ]
  },
  {
   "cell_type": "markdown",
   "metadata": {},
   "source": [
    "# Multichannel CNN evaluation\n",
    "Lets import the sources to load the trained network:"
   ]
  },
  {
   "cell_type": "code",
   "execution_count": 1,
   "metadata": {},
   "outputs": [
    {
     "name": "stderr",
     "output_type": "stream",
     "text": [
      "Using TensorFlow backend.\n"
     ]
    }
   ],
   "source": [
    "from model_evaluate import *"
   ]
  },
  {
   "cell_type": "markdown",
   "metadata": {},
   "source": [
    "Now we will print the model metrics:"
   ]
  },
  {
   "cell_type": "code",
   "execution_count": 2,
   "metadata": {},
   "outputs": [
    {
     "name": "stdout",
     "output_type": "stream",
     "text": [
      "Max document length: 260\n",
      "Vocabulary size: 2748\n",
      "(2881, 260) (724, 260)\n",
      "Train categorical accuracy: 99.722319\n",
      "Test categorical accuracy: 95.718232\n",
      "** TRAIN DATA\n",
      "\n",
      "[INFO] Accuracy:  0.9972231863936133\n",
      "\n",
      "[INFO] confusion matrix: \n",
      "[[ 104    0    0    0]\n",
      " [   4 2572    3    1]\n",
      " [   0    0   49    0]\n",
      " [   0    0    0  148]]\n",
      "\n",
      "[INFO] classification report:\n",
      "                  precision    recall  f1-score   support\n",
      "\n",
      "negativo_maioria       0.96      1.00      0.98       104\n",
      "negativo_unânime       1.00      1.00      1.00      2580\n",
      "positivo_maioria       0.94      1.00      0.97        49\n",
      "positivo_unânime       0.99      1.00      1.00       148\n",
      "\n",
      "       micro avg       1.00      1.00      1.00      2881\n",
      "       macro avg       0.97      1.00      0.99      2881\n",
      "    weighted avg       1.00      1.00      1.00      2881\n",
      "\n",
      "** TEST DATA\n",
      "\n",
      "[INFO] Accuracy:  0.9571823204419889\n",
      "\n",
      "[INFO] confusion matrix: \n",
      "[[ 23   1   3   0]\n",
      " [  6 631   1   8]\n",
      " [  3   0   7   3]\n",
      " [  1   4   1  32]]\n",
      "\n",
      "[INFO] classification report:\n",
      "                  precision    recall  f1-score   support\n",
      "\n",
      "negativo_maioria       0.70      0.85      0.77        27\n",
      "negativo_unânime       0.99      0.98      0.98       646\n",
      "positivo_maioria       0.58      0.54      0.56        13\n",
      "positivo_unânime       0.74      0.84      0.79        38\n",
      "\n",
      "       micro avg       0.96      0.96      0.96       724\n",
      "       macro avg       0.75      0.80      0.78       724\n",
      "    weighted avg       0.96      0.96      0.96       724\n",
      "\n"
     ]
    }
   ],
   "source": [
    "run_evaluation()"
   ]
  },
  {
   "cell_type": "markdown",
   "metadata": {},
   "source": [
    "# Comparing with classical models\n",
    "Lets import the sources to load the trained network:"
   ]
  },
  {
   "cell_type": "code",
   "execution_count": 2,
   "metadata": {},
   "outputs": [
    {
     "name": "stderr",
     "output_type": "stream",
     "text": [
      "Using TensorFlow backend.\n"
     ]
    }
   ],
   "source": [
    "from classic_model_train import *"
   ]
  },
  {
   "cell_type": "markdown",
   "metadata": {},
   "source": [
    "Now we will compute the model classic models metrics:"
   ]
  },
  {
   "cell_type": "code",
   "execution_count": 3,
   "metadata": {},
   "outputs": [
    {
     "name": "stdout",
     "output_type": "stream",
     "text": [
      "[info] MultinomialNB model\n",
      "\n",
      "[info] Accuracy:  0.8853591160220995\n",
      "\n",
      "[INFO] confusion matrix: \n",
      "[[  0  19   3   5]\n",
      " [  1 636   1   8]\n",
      " [  1   8   1   3]\n",
      " [  1  32   1   4]]\n",
      "\n",
      "[INFO] classification report:\n",
      "                  precision    recall  f1-score   support\n",
      "\n",
      "negativo_maioria       0.00      0.00      0.00        27\n",
      "negativo_unânime       0.92      0.98      0.95       646\n",
      "positivo_maioria       0.17      0.08      0.11        13\n",
      "positivo_unânime       0.20      0.11      0.14        38\n",
      "\n",
      "       micro avg       0.89      0.89      0.89       724\n",
      "       macro avg       0.32      0.29      0.30       724\n",
      "    weighted avg       0.83      0.89      0.86       724\n",
      "\n",
      "[info] LogisticRegression model\n"
     ]
    },
    {
     "name": "stderr",
     "output_type": "stream",
     "text": [
      "/Users/marcus/anaconda3/envs/nlp/lib/python3.6/site-packages/sklearn/linear_model/logistic.py:432: FutureWarning: Default solver will be changed to 'lbfgs' in 0.22. Specify a solver to silence this warning.\n",
      "  FutureWarning)\n",
      "/Users/marcus/anaconda3/envs/nlp/lib/python3.6/site-packages/sklearn/linear_model/logistic.py:459: FutureWarning: Default multi_class will be changed to 'auto' in 0.22. Specify the multi_class option to silence this warning.\n",
      "  \"this warning.\", FutureWarning)\n"
     ]
    },
    {
     "name": "stdout",
     "output_type": "stream",
     "text": [
      "\n",
      "[info] Accuracy:  0.8494475138121547\n",
      "\n",
      "[INFO] confusion matrix: \n",
      "[[  8  16   2   1]\n",
      " [ 14 596   8  28]\n",
      " [  2   5   1   5]\n",
      " [  7  21   0  10]]\n",
      "\n",
      "[INFO] classification report:\n",
      "                  precision    recall  f1-score   support\n",
      "\n",
      "negativo_maioria       0.26      0.30      0.28        27\n",
      "negativo_unânime       0.93      0.92      0.93       646\n",
      "positivo_maioria       0.09      0.08      0.08        13\n",
      "positivo_unânime       0.23      0.26      0.24        38\n",
      "\n",
      "       micro avg       0.85      0.85      0.85       724\n",
      "       macro avg       0.38      0.39      0.38       724\n",
      "    weighted avg       0.86      0.85      0.85       724\n",
      "\n",
      "[info] ComplementNB model\n",
      "\n",
      "[info] Accuracy:  0.888121546961326\n",
      "\n",
      "[INFO] confusion matrix: \n",
      "[[  0  21   3   3]\n",
      " [  1 638   3   4]\n",
      " [  1   9   2   1]\n",
      " [  1  32   2   3]]\n",
      "\n",
      "[INFO] classification report:\n",
      "                  precision    recall  f1-score   support\n",
      "\n",
      "negativo_maioria       0.00      0.00      0.00        27\n",
      "negativo_unânime       0.91      0.99      0.95       646\n",
      "positivo_maioria       0.20      0.15      0.17        13\n",
      "positivo_unânime       0.27      0.08      0.12        38\n",
      "\n",
      "       micro avg       0.89      0.89      0.89       724\n",
      "       macro avg       0.35      0.31      0.31       724\n",
      "    weighted avg       0.83      0.89      0.86       724\n",
      "\n"
     ]
    },
    {
     "name": "stderr",
     "output_type": "stream",
     "text": [
      "/Users/marcus/anaconda3/envs/nlp/lib/python3.6/site-packages/sklearn/svm/base.py:922: ConvergenceWarning: Liblinear failed to converge, increase the number of iterations.\n",
      "  \"the number of iterations.\", ConvergenceWarning)\n"
     ]
    }
   ],
   "source": [
    "run_classic_models_evaluation()"
   ]
  },
  {
   "cell_type": "code",
   "execution_count": null,
   "metadata": {},
   "outputs": [],
   "source": []
  }
 ],
 "metadata": {
  "kernelspec": {
   "display_name": "Python 3",
   "language": "python",
   "name": "python3"
  },
  "language_info": {
   "codemirror_mode": {
    "name": "ipython",
    "version": 3
   },
   "file_extension": ".py",
   "mimetype": "text/x-python",
   "name": "python",
   "nbconvert_exporter": "python",
   "pygments_lexer": "ipython3",
   "version": "3.6.7"
  }
 },
 "nbformat": 4,
 "nbformat_minor": 2
}
